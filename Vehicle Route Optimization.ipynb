{
 "cells": [
  {
   "cell_type": "markdown",
   "metadata": {},
   "source": [
    "# Objective - 1 (No of vehicle optimization)"
   ]
  },
  {
   "cell_type": "code",
   "execution_count": 6,
   "metadata": {
    "scrolled": true
   },
   "outputs": [
    {
     "name": "stdout",
     "output_type": "stream",
     "text": [
      "Minimum investment by the company to buy vehicles and satisfy the daily demand is = 220.0 $\n",
      "Number of vehicles x = 5.0\n",
      "Number of vehicles y = 1.0\n"
     ]
    }
   ],
   "source": [
    "import pulp\n",
    "model = pulp.LpProblem(\"Cost minimization\", pulp.LpMinimize)\n",
    "\n",
    "# x is the number of vehicle of c type(self-owned) and y for d type(rented)\n",
    "x = pulp.LpVariable('x', lowBound = 0, cat='Integer')\n",
    "y = pulp.LpVariable('y', lowBound = 0, cat='Integer')\n",
    "\n",
    "model+= 40*x + 20*y, 'Z' # We assume that the running cost of vehicle/day of c type is 40$ and d type is 20$\n",
    "model+= 19*x +9*y>=100   # Assuming an avergae demand of 100 tourist/day in different groups; 19 is capacity/vehicle for c type, 9 is capacity/vehicle for d type\n",
    "\n",
    "\n",
    "model\n",
    "\n",
    "model.solve()\n",
    "pulp.LpStatus[model.status]\n",
    "\n",
    "value = pulp.value(model.objective)\n",
    "print (\"Minimum investment by the company to buy vehicles and satisfy the daily demand is = {} $\".format(value))\n",
    "\n",
    "for variable in model.variables():\n",
    "    print (\"Number of vehicles {} = {}\".format(variable.name, variable.varValue))"
   ]
  },
  {
   "cell_type": "markdown",
   "metadata": {},
   "source": [
    "# Objective - 2 (Cost optimization)"
   ]
  },
  {
   "cell_type": "code",
   "execution_count": 8,
   "metadata": {},
   "outputs": [
    {
     "name": "stdout",
     "output_type": "stream",
     "text": [
      "Group carried by vehicle c1 = 0.0\n",
      "Group carried by vehicle c2 = 0.0\n",
      "Group carried by vehicle c3 = 14.0\n",
      "Group carried by vehicle c4 = 10.0\n",
      "Group carried by vehicle c5 = 4.0\n",
      "Group carried by vehicle d1 = 2.0\n",
      "Group carried by vehicle d2 = 7.0\n",
      "Group carried by vehicle d3 = 9.0\n",
      "Group carried by vehicle d4 = 9.0\n",
      "Group carried by vehicle d5 = 9.0\n",
      "Minimum Cost to Company = 656.0 $\n"
     ]
    }
   ],
   "source": [
    "import pulp\n",
    "model1 = pulp.LpProblem(\"Cost minimization\", pulp.LpMinimize)\n",
    "\n",
    "# c is the self owned vehicle type, 5 [upper bound] in number [There are 5 locations assumed as demand, therefore c1 to c5]\n",
    "c1 = pulp.LpVariable('c1', lowBound = 0, upBound = 19, cat='Integer')\n",
    "c2 = pulp.LpVariable('c2', lowBound = 0, upBound = 19, cat='Integer')\n",
    "c3 = pulp.LpVariable('c3', lowBound = 0, upBound =  19, cat='Integer')\n",
    "c4 = pulp.LpVariable('c4', lowBound = 0, upBound = 19,cat ='Integer')\n",
    "c5 = pulp.LpVariable('c5',  lowBound = 0, upBound = 19, cat = 'Integer')\n",
    "\n",
    "# d is the rented type vehicle, 5 in number [upper bound] [There are 5 locations assumed as demand, therefore d1 to d5]\n",
    "d1 = pulp.LpVariable('d1', lowBound = 0, upBound = 9, cat='Integer')\n",
    "d2 = pulp.LpVariable('d2', lowBound = 0, upBound = 9, cat='Integer')\n",
    "d3 = pulp.LpVariable('d3', lowBound = 0, upBound = 9, cat='Integer')\n",
    "d4 = pulp.LpVariable('d4', lowBound = 0, upBound = 9, cat='Integer')\n",
    "d5 = pulp.LpVariable('d5',  lowBound = 0, upBound = 9, cat = 'Integer')\n",
    "\n",
    "#5 locations at 100, 200, 300, 400 & 500 unit distnaces apart from the company location with different costs/passenger attached to it - Assumption\n",
    "model1+=4*c1 + 2*d1 + 8*c2 + 4*d2 + 12*c3 + 6*d3 + 16*c4 + 8*d4 + 20*c5 + 10*d5 , \"Z\" # Objective Function\n",
    "\n",
    "# Lets say 5 groups apprach the company in sizes of 2,7,23,19,13 for each location.\n",
    "model1+=c1 + d1  >=2 # People going in c type - c1 in d type - d1   \n",
    "model1+=c2 + d2  >=7\n",
    "model1+=c3 +d3  >=23\n",
    "model1+=c4 +d4  >=19\n",
    "model1+=c5 +d5  >=13\n",
    "model1+=c1 + c2 +c3 +c4 +c5 <=95  # capacity constraint\n",
    "model1+=d1 + d2 +d3 +d4 +d5 <=45\n",
    "\n",
    "model1\n",
    "\n",
    "model1.solve()\n",
    "pulp.LpStatus[model1.status]\n",
    "\n",
    "\n",
    "for variable in model1.variables():\n",
    "       \n",
    "    print (\"Group carried by vehicle {} = {}\".format(variable.name, variable.varValue))\n",
    "\n",
    "    \n",
    "value = pulp.value(model1.objective)\n",
    "print (\"Minimum Cost to Company = {} $\".format(value))"
   ]
  },
  {
   "cell_type": "markdown",
   "metadata": {},
   "source": [
    "# Objective - 3 (Route optimization)"
   ]
  },
  {
   "cell_type": "code",
   "execution_count": 12,
   "metadata": {},
   "outputs": [
    {
     "name": "stdout",
     "output_type": "stream",
     "text": [
      "Minimum distance travelled after covering all the locations is = 8.0 unit distance\n",
      "Arc selected for the Optimal distance: d14 = 1.0\n",
      "Arc selected for the Optimal distance: d21 = 1.0\n",
      "Arc selected for the Optimal distance: d32 = 1.0\n",
      "Arc selected for the Optimal distance: d45 = 1.0\n",
      "Arc selected for the Optimal distance: d53 = 1.0\n",
      "Arc selected for the Optimal distance: u5 = 1.0\n"
     ]
    }
   ],
   "source": [
    "import pulp\n",
    "model1 = pulp.LpProblem(\"Cost minimization\", pulp.LpMinimize)\n",
    "\n",
    "# Declaring Binary variable for every route in every direction, assuming there are 5 location\n",
    "d21 = pulp.LpVariable('d21', cat = 'Binary') \n",
    "d31 = pulp.LpVariable('d31',   cat = 'Binary')\n",
    "d41= pulp.LpVariable('d41',   cat = 'Binary')\n",
    "d51 = pulp.LpVariable('d51',   cat = 'Binary')\n",
    "d13 = pulp.LpVariable('d13',   cat = 'Binary')\n",
    "d23= pulp.LpVariable('d23',   cat = 'Binary')\n",
    "d43= pulp.LpVariable('d43',   cat = 'Binary')\n",
    "d53 = pulp.LpVariable('d53',   cat = 'Binary')\n",
    "d15= pulp.LpVariable('d15',   cat = 'Binary')\n",
    "d25= pulp.LpVariable('d25',   cat = 'Binary')\n",
    "d35= pulp.LpVariable('d35',   cat = 'Binary')\n",
    "d45 = pulp.LpVariable('d45',   cat = 'Binary')\n",
    "d12 = pulp.LpVariable('d12',   cat = 'Binary')\n",
    "d32 = pulp.LpVariable('d32',   cat = 'Binary')\n",
    "d42= pulp.LpVariable('d42',   cat = 'Binary')\n",
    "d52  = pulp.LpVariable('d52',   cat = 'Binary')\n",
    "d14 = pulp.LpVariable('d14',   cat = 'Binary')\n",
    "d24 = pulp.LpVariable('d24',   cat = 'Binary')\n",
    "d34 = pulp.LpVariable('d34',   cat = 'Binary')\n",
    "d54= pulp.LpVariable('d54',   cat = 'Binary')\n",
    "\n",
    "u2 = pulp.LpVariable('u2', lowBound = 0, cat='Integer')\n",
    "u3 = pulp.LpVariable('u3', lowBound = 0, cat='Integer')\n",
    "u4 = pulp.LpVariable('u4', lowBound = 0, cat='Integer')\n",
    "u5 = pulp.LpVariable('u5',  lowBound = 0, cat = 'Integer')\n",
    "\n",
    "#Defining the Objective function based on the distance between 2 points [1 unit distance assumed between consecutive locations]\n",
    "model1+=d12 + d21 + d23 + d32 + d34 + d43 + d45 + d54 + 2*( d13 + d31 + d24 + d42 + d35 + d53) +3* (d14 + d41 + d25 + d52 ) + 4* (d15 + d51) , \"Z\"\n",
    "\n",
    "model1+= d21 + d31 + d41 + d51 == 1 #...\n",
    "model1+= d12 + d32 + d42 + d52 == 1\n",
    "model1+= d13 + d23 + d43 + d53 == 1\n",
    "model1+= d14 + d24 + d34 + d54 == 1\n",
    "model1+= d15 + d25 + d35 + d45 == 1# One location is visited by a vehicle only once\n",
    "\n",
    "model1+= d12 + d13 + d14 + d15 == 1#...\n",
    "model1+= d21 + d23 + d24 + d25 == 1\n",
    "model1+= d31 + d32 + d34 + d35 == 1\n",
    "model1+= d41 + d42 + d43 + d45 == 1\n",
    "model1+= d51 + d52 + d53 + d54 == 1# each location is left by a vehicle only once\n",
    "\n",
    "# To avoid subrouting of vehicles\n",
    "model1+= u2 - u3 + 5*d23 <= 4\n",
    "model1+= u2 - u4 + 5*d24 <= 4\n",
    "model1+= u2 - u5 + 5*d25 <= 4\n",
    "model1+= u3 - u2 + 5*d32 <= 4\n",
    "model1+= u3 - u4 + 5*d34 <= 4\n",
    "model1+= u3 - u5 + 5*d35 <= 4\n",
    "model1+= u4 - u2 + 5*d42 <= 4\n",
    "model1+= u4 - u3 + 5*d43 <= 4\n",
    "model1+= u4 - u5 + 5*d45 <= 4\n",
    "model1+= u5 - u2 + 5*d52 <= 4\n",
    "model1+= u5 - u3 + 5*d53 <= 4\n",
    "model1+= u5 - u4 + 5*d54 <= 4\n",
    "\n",
    "\n",
    "model1\n",
    "\n",
    "model1.solve()\n",
    "pulp.LpStatus[model1.status]\n",
    "\n",
    "value = pulp.value(model1.objective)\n",
    "print (\"Minimum distance travelled after covering all the locations is = {} unit distance\".format(value))\n",
    "\n",
    "for variable in model1.variables():  #prints just the variables with value 1, signifying that the vehicle goes on that route.\n",
    "    if(variable.varValue ==1):\n",
    "        print (\"Arc selected for the Optimal distance: {} = {}\".format(variable.name, variable.varValue))"
   ]
  },
  {
   "cell_type": "code",
   "execution_count": null,
   "metadata": {},
   "outputs": [],
   "source": []
  }
 ],
 "metadata": {
  "kernelspec": {
   "display_name": "Python 3",
   "language": "python",
   "name": "python3"
  },
  "language_info": {
   "codemirror_mode": {
    "name": "ipython",
    "version": 3
   },
   "file_extension": ".py",
   "mimetype": "text/x-python",
   "name": "python",
   "nbconvert_exporter": "python",
   "pygments_lexer": "ipython3",
   "version": "3.6.5"
  }
 },
 "nbformat": 4,
 "nbformat_minor": 2
}
